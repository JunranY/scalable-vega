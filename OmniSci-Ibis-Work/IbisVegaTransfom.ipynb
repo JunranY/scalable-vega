{
 "cells": [
  {
   "cell_type": "code",
   "execution_count": 116,
   "metadata": {},
   "outputs": [],
   "source": [
    "import ibis\n",
    "import altair as alt\n",
    "import ibis_vega_transform"
   ]
  },
  {
   "cell_type": "code",
   "execution_count": 117,
   "metadata": {},
   "outputs": [],
   "source": [
    "con = ibis.postgres.connect(\n",
    "    user='sai',\n",
    "    password='',\n",
    "    host='localhost',\n",
    "    port=5432,\n",
    "    database='scalable_vega',\n",
    ")\n",
    "table_cars = con.table(\"cars\")\n",
    "temp = table_cars.execute()"
   ]
  },
  {
   "cell_type": "code",
   "execution_count": 118,
   "metadata": {},
   "outputs": [
    {
     "data": {
      "application/json": {},
      "text/plain": [
       "<IPython.core.display.JSON object>"
      ]
     },
     "metadata": {
      "application/json": {
       "expanded": false,
       "root": "ibis-vega-transform"
      }
     },
     "output_type": "display_data"
    },
    {
     "data": {
      "application/vnd.vega.ibis.v5+json": {
       "span": {
        "uber-trace-id": "a54df24869246a1f:3ab77fc761ab9d88:0:1"
       },
       "spec": {
        "$schema": "https://vega.github.io/schema/vega-lite/v4.8.1.json",
        "config": {
         "view": {
          "continuousHeight": 300,
          "continuousWidth": 400
         }
        },
        "data": {
         "name": "ibis:-5425069515897712383"
        },
        "encoding": {
         "x": {
          "field": "cylinders",
          "type": "quantitative"
         },
         "y": {
          "aggregate": "average",
          "field": "miles_per_gallon",
          "type": "quantitative"
         }
        },
        "mark": "bar"
       }
      },
      "text/plain": [
       "alt.Chart(...)"
      ]
     },
     "execution_count": 118,
     "metadata": {},
     "output_type": "execute_result"
    }
   ],
   "source": [
    "#cars_average or cars_average_transform\n",
    "c = alt.Chart(table_cars).mark_bar().encode(\n",
    "    x='cylinders',\n",
    "    y='average(miles_per_gallon):Q'\n",
    ")\n",
    "c"
   ]
  },
  {
   "cell_type": "code",
   "execution_count": 119,
   "metadata": {},
   "outputs": [
    {
     "data": {
      "application/json": {},
      "text/plain": [
       "<IPython.core.display.JSON object>"
      ]
     },
     "metadata": {
      "application/json": {
       "expanded": false,
       "root": "ibis-vega-transform"
      }
     },
     "output_type": "display_data"
    },
    {
     "data": {
      "application/vnd.vega.ibis.v5+json": {
       "span": {
        "uber-trace-id": "f0b1dca18e24cc16:a8cbb914f50ded35:0:1"
       },
       "spec": {
        "$schema": "https://vega.github.io/schema/vega-lite/v4.8.1.json",
        "config": {
         "view": {
          "continuousHeight": 300,
          "continuousWidth": 400
         }
        },
        "data": {
         "name": "ibis:-5425069515897712383"
        },
        "encoding": {
         "x": {
          "field": "cylinders",
          "type": "quantitative"
         },
         "y": {
          "aggregate": "count",
          "field": "miles_per_gallon",
          "type": "quantitative"
         }
        },
        "mark": "bar"
       }
      },
      "text/plain": [
       "alt.Chart(...)"
      ]
     },
     "execution_count": 119,
     "metadata": {},
     "output_type": "execute_result"
    }
   ],
   "source": [
    "#cars_count\n",
    "c = alt.Chart(table_cars).mark_bar().encode(\n",
    "    x='cylinders',\n",
    "    y='count(miles_per_gallon):Q'\n",
    ")\n",
    "c"
   ]
  },
  {
   "cell_type": "code",
   "execution_count": 120,
   "metadata": {},
   "outputs": [
    {
     "data": {
      "application/vnd.vegalite.v3+json": {
       "$schema": "https://vega.github.io/schema/vega-lite/v4.8.1.json",
       "config": {
        "view": {
         "continuousHeight": 300,
         "continuousWidth": 400
        }
       },
       "data": {
        "name": "data-d501c5d56d887a4aaa5beccb6cf3092e"
       },
       "datasets": {
        "data-d501c5d56d887a4aaa5beccb6cf3092e": [
         {
          "cylinders": 3,
          "miles_per_gallon": 4
         },
         {
          "cylinders": 4,
          "miles_per_gallon": 87
         },
         {
          "cylinders": 5,
          "miles_per_gallon": 3
         },
         {
          "cylinders": 6,
          "miles_per_gallon": 38
         },
         {
          "cylinders": 8,
          "miles_per_gallon": 27
         }
        ]
       },
       "encoding": {
        "x": {
         "field": "cylinders",
         "type": "quantitative"
        },
        "y": {
         "field": "miles_per_gallon",
         "type": "quantitative"
        }
       },
       "mark": "bar"
      },
      "image/png": "[encoded data removed]",
      "text/plain": [
       "<VegaLite 3 object>\n",
       "\n",
       "If you see this message, it means the renderer has not been properly enabled\n",
       "for the frontend that you are using. For more information, see\n",
       "https://altair-viz.github.io/user_guide/troubleshooting.html\n"
      ]
     },
     "execution_count": 120,
     "metadata": {},
     "output_type": "execute_result"
    }
   ],
   "source": [
    "#cars_distinct\n",
    "import pandas as pd\n",
    "see = temp.groupby(\"cylinders\").miles_per_gallon.nunique()\n",
    "see = see.reset_index()\n",
    "c = alt.Chart(see).mark_bar().encode(\n",
    "    x='cylinders',\n",
    "    y='miles_per_gallon'\n",
    ")\n",
    "c"
   ]
  },
  {
   "cell_type": "code",
   "execution_count": 133,
   "metadata": {},
   "outputs": [
    {
     "data": {
      "application/json": {},
      "text/plain": [
       "<IPython.core.display.JSON object>"
      ]
     },
     "metadata": {
      "application/json": {
       "expanded": false,
       "root": "ibis-vega-transform"
      }
     },
     "output_type": "display_data"
    },
    {
     "data": {
      "application/vnd.vega.ibis.v5+json": {
       "span": {
        "uber-trace-id": "2ef4dd8a7a962a93:42f64e998b6e358b:0:1"
       },
       "spec": {
        "$schema": "https://vega.github.io/schema/vega-lite/v4.8.1.json",
        "config": {
         "view": {
          "continuousHeight": 300,
          "continuousWidth": 400
         }
        },
        "data": {
         "name": "ibis:-5425069515897712383"
        },
        "encoding": {
         "x": {
          "bin": {
           "maxbins": 11
          },
          "field": "miles_per_gallon",
          "type": "quantitative"
         },
         "y": {
          "aggregate": "count",
          "type": "quantitative"
         }
        },
        "height": 400,
        "mark": "bar",
        "width": 600
       }
      },
      "text/plain": [
       "alt.Chart(...)"
      ]
     },
     "execution_count": 133,
     "metadata": {},
     "output_type": "execute_result"
    }
   ],
   "source": [
    "#cars_histogram\n",
    "WIDTH = 600\n",
    "HEIGHT = 400\n",
    "alt.Chart(table_cars, width=WIDTH, height=HEIGHT).mark_bar().encode(\n",
    "    alt.X(\"miles_per_gallon:Q\", bin=alt.Bin(maxbins=11)),\n",
    "    y='count()',\n",
    ")"
   ]
  },
  {
   "cell_type": "code",
   "execution_count": 135,
   "metadata": {},
   "outputs": [
    {
     "data": {
      "application/json": {},
      "text/plain": [
       "<IPython.core.display.JSON object>"
      ]
     },
     "metadata": {
      "application/json": {
       "expanded": false,
       "root": "ibis-vega-transform"
      }
     },
     "output_type": "display_data"
    },
    {
     "data": {
      "application/vnd.vega.ibis.v5+json": {
       "span": {
        "uber-trace-id": "303f5632ae531c3b:e89e1013c38e87e0:0:1"
       },
       "spec": {
        "$schema": "https://vega.github.io/schema/vega-lite/v4.8.1.json",
        "config": {
         "view": {
          "continuousHeight": 300,
          "continuousWidth": 400
         }
        },
        "data": {
         "name": "ibis:-5425069515897712383"
        },
        "encoding": {
         "x": {
          "field": "cylinders",
          "type": "quantitative"
         },
         "y": {
          "field": "miles_per_gallon",
          "type": "quantitative"
         }
        },
        "mark": "bar"
       }
      },
      "text/plain": [
       "alt.Chart(...)"
      ]
     },
     "execution_count": 135,
     "metadata": {},
     "output_type": "execute_result"
    }
   ],
   "source": [
    "#cars_marks\n",
    "c = alt.Chart(table_cars).mark_bar().encode(\n",
    "    x='cylinders',\n",
    "    y='miles_per_gallon'\n",
    ")\n",
    "c"
   ]
  },
  {
   "cell_type": "code",
   "execution_count": 137,
   "metadata": {},
   "outputs": [
    {
     "data": {
      "application/json": {},
      "text/plain": [
       "<IPython.core.display.JSON object>"
      ]
     },
     "metadata": {
      "application/json": {
       "expanded": false,
       "root": "ibis-vega-transform"
      }
     },
     "output_type": "display_data"
    },
    {
     "data": {
      "application/vnd.vega.ibis.v5+json": {
       "span": {
        "uber-trace-id": "a9832d05978aefb6:bbe68fbcfa0859f0:0:1"
       },
       "spec": {
        "$schema": "https://vega.github.io/schema/vega-lite/v4.8.1.json",
        "config": {
         "view": {
          "continuousHeight": 300,
          "continuousWidth": 400
         }
        },
        "data": {
         "name": "ibis:-5425069515897712383"
        },
        "encoding": {
         "x": {
          "field": "cylinders",
          "type": "quantitative"
         },
         "y": {
          "aggregate": "max",
          "field": "miles_per_gallon",
          "type": "quantitative"
         }
        },
        "mark": "bar"
       }
      },
      "text/plain": [
       "alt.Chart(...)"
      ]
     },
     "execution_count": 137,
     "metadata": {},
     "output_type": "execute_result"
    }
   ],
   "source": [
    "#cars_max\n",
    "c = alt.Chart(table_cars).mark_bar().encode(\n",
    "    x='cylinders',\n",
    "    y='max(miles_per_gallon):Q'\n",
    ")\n",
    "c"
   ]
  },
  {
   "cell_type": "code",
   "execution_count": 142,
   "metadata": {},
   "outputs": [
    {
     "data": {
      "application/json": {},
      "text/plain": [
       "<IPython.core.display.JSON object>"
      ]
     },
     "metadata": {
      "application/json": {
       "expanded": false,
       "root": "ibis-vega-transform"
      }
     },
     "output_type": "display_data"
    },
    {
     "data": {
      "application/vnd.vega.ibis.v5+json": {
       "span": {
        "uber-trace-id": "bc0f760df60755e4:4d222016882dcfe8:0:1"
       },
       "spec": {
        "$schema": "https://vega.github.io/schema/vega-lite/v4.8.1.json",
        "config": {
         "view": {
          "continuousHeight": 300,
          "continuousWidth": 400
         }
        },
        "data": {
         "name": "ibis:-5425069515897712383"
        },
        "encoding": {
         "x": {
          "field": "cylinders",
          "type": "quantitative"
         },
         "y": {
          "aggregate": "mean",
          "field": "miles_per_gallon",
          "type": "quantitative"
         }
        },
        "mark": "bar"
       }
      },
      "text/plain": [
       "alt.Chart(...)"
      ]
     },
     "execution_count": 142,
     "metadata": {},
     "output_type": "execute_result"
    }
   ],
   "source": [
    "#cars_mean\n",
    "c = alt.Chart(table_cars).mark_bar().encode(\n",
    "    x='cylinders',\n",
    "    y='mean(miles_per_gallon):Q'\n",
    ")\n",
    "c"
   ]
  },
  {
   "cell_type": "code",
   "execution_count": 143,
   "metadata": {},
   "outputs": [
    {
     "data": {
      "application/json": {},
      "text/plain": [
       "<IPython.core.display.JSON object>"
      ]
     },
     "metadata": {
      "application/json": {
       "expanded": false,
       "root": "ibis-vega-transform"
      }
     },
     "output_type": "display_data"
    },
    {
     "data": {
      "application/vnd.vega.ibis.v5+json": {
       "span": {
        "uber-trace-id": "441c578ca02fc0c2:ea4b72526063f08f:0:1"
       },
       "spec": {
        "$schema": "https://vega.github.io/schema/vega-lite/v4.8.1.json",
        "config": {
         "view": {
          "continuousHeight": 300,
          "continuousWidth": 400
         }
        },
        "data": {
         "name": "ibis:-5425069515897712383"
        },
        "encoding": {
         "x": {
          "field": "cylinders",
          "type": "quantitative"
         },
         "y": {
          "aggregate": "min",
          "field": "miles_per_gallon",
          "type": "quantitative"
         }
        },
        "mark": "bar"
       }
      },
      "text/plain": [
       "alt.Chart(...)"
      ]
     },
     "execution_count": 143,
     "metadata": {},
     "output_type": "execute_result"
    }
   ],
   "source": [
    "#cars_min\n",
    "c = alt.Chart(table_cars).mark_bar().encode(\n",
    "    x='cylinders',\n",
    "    y='min(miles_per_gallon):Q'\n",
    ")\n",
    "c"
   ]
  },
  {
   "cell_type": "code",
   "execution_count": 159,
   "metadata": {},
   "outputs": [
    {
     "data": {
      "application/vnd.vegalite.v3+json": {
       "$schema": "https://vega.github.io/schema/vega-lite/v4.8.1.json",
       "config": {
        "view": {
         "continuousHeight": 300,
         "continuousWidth": 400
        }
       },
       "data": {
        "name": "data-a2fbc39285b4e4adac4d9aaa088a91a3"
       },
       "datasets": {
        "data-a2fbc39285b4e4adac4d9aaa088a91a3": [
         {
          "cylinders": 5,
          "index": 8
         },
         {
          "cylinders": 3,
          "index": 4
         }
        ]
       },
       "encoding": {
        "x": {
         "field": "index",
         "type": "quantitative"
        },
        "y": {
         "field": "cylinders",
         "type": "quantitative"
        }
       },
       "mark": "bar"
      },
      "image/png": "[encoded data removed]",
      "text/plain": [
       "<VegaLite 3 object>\n",
       "\n",
       "If you see this message, it means the renderer has not been properly enabled\n",
       "for the frontend that you are using. For more information, see\n",
       "https://altair-viz.github.io/user_guide/troubleshooting.html\n"
      ]
     },
     "execution_count": 159,
     "metadata": {},
     "output_type": "execute_result"
    }
   ],
   "source": [
    "#cars_missing\n",
    "see = temp[temp['miles_per_gallon'].isna()]['cylinders'].value_counts().reset_index()\n",
    "c = alt.Chart(see).mark_bar().encode(\n",
    "    x='index',\n",
    "    y='cylinders'\n",
    ")\n",
    "c"
   ]
  },
  {
   "cell_type": "code",
   "execution_count": 167,
   "metadata": {},
   "outputs": [
    {
     "data": {
      "application/vnd.vegalite.v3+json": {
       "$schema": "https://vega.github.io/schema/vega-lite/v4.8.1.json",
       "config": {
        "view": {
         "continuousHeight": 300,
         "continuousWidth": 400
        }
       },
       "data": {
        "name": "data-2b6eeb8047c6f0f705a294f7390e9b85"
       },
       "datasets": {
        "data-2b6eeb8047c6f0f705a294f7390e9b85": [
         {
          "cylinders": 3,
          "miles_per_gallon": 18.75
         },
         {
          "cylinders": 4,
          "miles_per_gallon": 25
         },
         {
          "cylinders": 5,
          "miles_per_gallon": 22.85
         },
         {
          "cylinders": 6,
          "miles_per_gallon": 18
         },
         {
          "cylinders": 8,
          "miles_per_gallon": 13
         }
        ]
       },
       "encoding": {
        "x": {
         "field": "cylinders",
         "type": "quantitative"
        },
        "y": {
         "field": "miles_per_gallon",
         "type": "quantitative"
        }
       },
       "mark": "bar"
      },
      "image/png": "[encoded data removed]",
      "text/plain": [
       "<VegaLite 3 object>\n",
       "\n",
       "If you see this message, it means the renderer has not been properly enabled\n",
       "for the frontend that you are using. For more information, see\n",
       "https://altair-viz.github.io/user_guide/troubleshooting.html\n"
      ]
     },
     "execution_count": 167,
     "metadata": {},
     "output_type": "execute_result"
    }
   ],
   "source": [
    "#cars_q1\n",
    "see = temp.groupby('cylinders').miles_per_gallon.quantile(.25).reset_index()\n",
    "c = alt.Chart(see).mark_bar().encode(\n",
    "    x='cylinders',\n",
    "    y='miles_per_gallon'\n",
    ")\n",
    "c"
   ]
  },
  {
   "cell_type": "code",
   "execution_count": 168,
   "metadata": {},
   "outputs": [
    {
     "data": {
      "application/vnd.vegalite.v3+json": {
       "$schema": "https://vega.github.io/schema/vega-lite/v4.8.1.json",
       "config": {
        "view": {
         "continuousHeight": 300,
         "continuousWidth": 400
        }
       },
       "data": {
        "name": "data-9e343534169c376414bcd5294c21a126"
       },
       "datasets": {
        "data-9e343534169c376414bcd5294c21a126": [
         {
          "cylinders": 3,
          "miles_per_gallon": 22.05
         },
         {
          "cylinders": 4,
          "miles_per_gallon": 33
         },
         {
          "cylinders": 5,
          "miles_per_gallon": 30.9
         },
         {
          "cylinders": 6,
          "miles_per_gallon": 21
         },
         {
          "cylinders": 8,
          "miles_per_gallon": 16
         }
        ]
       },
       "encoding": {
        "x": {
         "field": "cylinders",
         "type": "quantitative"
        },
        "y": {
         "field": "miles_per_gallon",
         "type": "quantitative"
        }
       },
       "mark": "bar"
      },
      "image/png": "[encoded data removed]",
      "text/plain": [
       "<VegaLite 3 object>\n",
       "\n",
       "If you see this message, it means the renderer has not been properly enabled\n",
       "for the frontend that you are using. For more information, see\n",
       "https://altair-viz.github.io/user_guide/troubleshooting.html\n"
      ]
     },
     "execution_count": 168,
     "metadata": {},
     "output_type": "execute_result"
    }
   ],
   "source": [
    "#cars_q1\n",
    "see = temp.groupby('cylinders').miles_per_gallon.quantile(.75).reset_index()\n",
    "c = alt.Chart(see).mark_bar().encode(\n",
    "    x='cylinders',\n",
    "    y='miles_per_gallon'\n",
    ")\n",
    "c"
   ]
  },
  {
   "cell_type": "code",
   "execution_count": 171,
   "metadata": {},
   "outputs": [
    {
     "data": {
      "application/vnd.vegalite.v3+json": {
       "$schema": "https://vega.github.io/schema/vega-lite/v4.8.1.json",
       "config": {
        "view": {
         "continuousHeight": 300,
         "continuousWidth": 400
        }
       },
       "data": {
        "name": "data-ba979575a95712e6b3ad75d999e6feaa"
       },
       "datasets": {
        "data-ba979575a95712e6b3ad75d999e6feaa": [
         {
          "cylinders": 3,
          "miles_per_gallon": 1.2822506255278903
         },
         {
          "cylinders": 4,
          "miles_per_gallon": 0.3997908955731495
         },
         {
          "cylinders": 5,
          "miles_per_gallon": 4.750555523070725
         },
         {
          "cylinders": 6,
          "miles_per_gallon": 0.4154128335880426
         },
         {
          "cylinders": 8,
          "miles_per_gallon": 0.27946738351550926
         }
        ]
       },
       "encoding": {
        "x": {
         "field": "cylinders",
         "type": "quantitative"
        },
        "y": {
         "field": "miles_per_gallon",
         "type": "quantitative"
        }
       },
       "mark": "bar"
      },
      "image/png": "[encoded data removed]",
      "text/plain": [
       "<VegaLite 3 object>\n",
       "\n",
       "If you see this message, it means the renderer has not been properly enabled\n",
       "for the frontend that you are using. For more information, see\n",
       "https://altair-viz.github.io/user_guide/troubleshooting.html\n"
      ]
     },
     "execution_count": 171,
     "metadata": {},
     "output_type": "execute_result"
    }
   ],
   "source": [
    "#cars_stderr\n",
    "see = temp.groupby('cylinders').miles_per_gallon.sem().reset_index()\n",
    "c = alt.Chart(see).mark_bar().encode(\n",
    "    x='cylinders',\n",
    "    y='miles_per_gallon'\n",
    ")\n",
    "c"
   ]
  },
  {
   "cell_type": "code",
   "execution_count": 172,
   "metadata": {},
   "outputs": [
    {
     "data": {
      "application/vnd.vegalite.v3+json": {
       "$schema": "https://vega.github.io/schema/vega-lite/v4.8.1.json",
       "config": {
        "view": {
         "continuousHeight": 300,
         "continuousWidth": 400
        }
       },
       "data": {
        "name": "data-32d67caf7b3ef2cf2337f6574b0bc324"
       },
       "datasets": {
        "data-32d67caf7b3ef2cf2337f6574b0bc324": [
         {
          "cylinders": 3,
          "miles_per_gallon": 2.220923231451281
         },
         {
          "cylinders": 4,
          "miles_per_gallon": 5.696143460025008
         },
         {
          "cylinders": 5,
          "miles_per_gallon": 6.718300049533033
         },
         {
          "cylinders": 6,
          "miles_per_gallon": 3.784591028327986
         },
         {
          "cylinders": 8,
          "miles_per_gallon": 2.822482219926014
         }
        ]
       },
       "encoding": {
        "x": {
         "field": "cylinders",
         "type": "quantitative"
        },
        "y": {
         "field": "miles_per_gallon",
         "type": "quantitative"
        }
       },
       "mark": "bar"
      },
      "image/png": "[encoded data removed]",
      "text/plain": [
       "<VegaLite 3 object>\n",
       "\n",
       "If you see this message, it means the renderer has not been properly enabled\n",
       "for the frontend that you are using. For more information, see\n",
       "https://altair-viz.github.io/user_guide/troubleshooting.html\n"
      ]
     },
     "execution_count": 172,
     "metadata": {},
     "output_type": "execute_result"
    }
   ],
   "source": [
    "#cars_stdevp\n",
    "import numpy as np\n",
    "see = temp.groupby('cylinders').miles_per_gallon.agg(np.std, ddof=0).reset_index()\n",
    "c = alt.Chart(see).mark_bar().encode(\n",
    "    x='cylinders',\n",
    "    y='miles_per_gallon'\n",
    ")\n",
    "c"
   ]
  },
  {
   "cell_type": "code",
   "execution_count": 173,
   "metadata": {},
   "outputs": [
    {
     "data": {
      "application/vnd.vegalite.v3+json": {
       "$schema": "https://vega.github.io/schema/vega-lite/v4.8.1.json",
       "config": {
        "view": {
         "continuousHeight": 300,
         "continuousWidth": 400
        }
       },
       "data": {
        "name": "data-8fe9c8ff429fcba25d723e6bde879fdc"
       },
       "datasets": {
        "data-8fe9c8ff429fcba25d723e6bde879fdc": [
         {
          "cylinders": 3,
          "miles_per_gallon": 2.564501251055781
         },
         {
          "cylinders": 4,
          "miles_per_gallon": 5.710156134237385
         },
         {
          "cylinders": 5,
          "miles_per_gallon": 8.22820353013544
         },
         {
          "cylinders": 6,
          "miles_per_gallon": 3.807321509146598
         },
         {
          "cylinders": 8,
          "miles_per_gallon": 2.8362841712789435
         }
        ]
       },
       "encoding": {
        "x": {
         "field": "cylinders",
         "type": "quantitative"
        },
        "y": {
         "field": "miles_per_gallon",
         "type": "quantitative"
        }
       },
       "mark": "bar"
      },
      "image/png": "[encoded data removed]",
      "text/plain": [
       "<VegaLite 3 object>\n",
       "\n",
       "If you see this message, it means the renderer has not been properly enabled\n",
       "for the frontend that you are using. For more information, see\n",
       "https://altair-viz.github.io/user_guide/troubleshooting.html\n"
      ]
     },
     "execution_count": 173,
     "metadata": {},
     "output_type": "execute_result"
    }
   ],
   "source": [
    "#cars_stdev\n",
    "import numpy as np\n",
    "see = temp.groupby('cylinders').miles_per_gallon.agg(np.std, ddof=1).reset_index()\n",
    "c = alt.Chart(see).mark_bar().encode(\n",
    "    x='cylinders',\n",
    "    y='miles_per_gallon'\n",
    ")\n",
    "c"
   ]
  },
  {
   "cell_type": "code",
   "execution_count": 178,
   "metadata": {},
   "outputs": [
    {
     "data": {
      "application/vnd.vegalite.v3+json": {
       "$schema": "https://vega.github.io/schema/vega-lite/v4.8.1.json",
       "config": {
        "view": {
         "continuousHeight": 300,
         "continuousWidth": 400
        }
       },
       "data": {
        "name": "data-408cea94c65f1ae94ba46e216a8d0dfc"
       },
       "datasets": {
        "data-408cea94c65f1ae94ba46e216a8d0dfc": [
         {
          "cylinders": 3,
          "miles_per_gallon": 82.2
         },
         {
          "cylinders": 4,
          "miles_per_gallon": 5974.500000000001
         },
         {
          "cylinders": 5,
          "miles_per_gallon": 82.1
         },
         {
          "cylinders": 6,
          "miles_per_gallon": 1678.8
         },
         {
          "cylinders": 8,
          "miles_per_gallon": 1541.2000000000003
         }
        ]
       },
       "encoding": {
        "x": {
         "field": "cylinders",
         "type": "quantitative"
        },
        "y": {
         "field": "miles_per_gallon",
         "type": "quantitative"
        }
       },
       "mark": "bar"
      },
      "image/png": "[encoded data removed]",
      "text/plain": [
       "<VegaLite 3 object>\n",
       "\n",
       "If you see this message, it means the renderer has not been properly enabled\n",
       "for the frontend that you are using. For more information, see\n",
       "https://altair-viz.github.io/user_guide/troubleshooting.html\n"
      ]
     },
     "execution_count": 178,
     "metadata": {},
     "output_type": "execute_result"
    }
   ],
   "source": [
    "#cars_sum\n",
    "see = temp.groupby('cylinders').miles_per_gallon.sum().reset_index()\n",
    "c = alt.Chart(see).mark_bar().encode(\n",
    "    x='cylinders',\n",
    "    y='miles_per_gallon'\n",
    ")\n",
    "c"
   ]
  },
  {
   "cell_type": "code",
   "execution_count": 181,
   "metadata": {},
   "outputs": [
    {
     "data": {
      "application/vnd.vegalite.v3+json": {
       "$schema": "https://vega.github.io/schema/vega-lite/v4.8.1.json",
       "config": {
        "view": {
         "continuousHeight": 300,
         "continuousWidth": 400
        }
       },
       "data": {
        "name": "data-79bdea00a0c48aca057974e688839916"
       },
       "datasets": {
        "data-79bdea00a0c48aca057974e688839916": [
         {
          "cylinders": 204,
          "index": 4
         },
         {
          "cylinders": 103,
          "index": 8
         },
         {
          "cylinders": 84,
          "index": 6
         },
         {
          "cylinders": 4,
          "index": 3
         },
         {
          "cylinders": 3,
          "index": 5
         }
        ]
       },
       "encoding": {
        "x": {
         "field": "index",
         "type": "quantitative"
        },
        "y": {
         "field": "cylinders",
         "type": "quantitative"
        }
       },
       "mark": "bar"
      },
      "image/png": "[encoded data removed]",
      "text/plain": [
       "<VegaLite 3 object>\n",
       "\n",
       "If you see this message, it means the renderer has not been properly enabled\n",
       "for the frontend that you are using. For more information, see\n",
       "https://altair-viz.github.io/user_guide/troubleshooting.html\n"
      ]
     },
     "execution_count": 181,
     "metadata": {},
     "output_type": "execute_result"
    }
   ],
   "source": [
    "#cars_valid\n",
    "see = temp[temp['miles_per_gallon'].notna()]['cylinders'].value_counts().reset_index()\n",
    "c = alt.Chart(see).mark_bar().encode(\n",
    "    x='index',\n",
    "    y='cylinders'\n",
    ")\n",
    "c"
   ]
  },
  {
   "cell_type": "code",
   "execution_count": 183,
   "metadata": {},
   "outputs": [
    {
     "data": {
      "application/vnd.vegalite.v3+json": {
       "$schema": "https://vega.github.io/schema/vega-lite/v4.8.1.json",
       "config": {
        "view": {
         "continuousHeight": 300,
         "continuousWidth": 400
        }
       },
       "data": {
        "name": "data-0b45e05bdcb556106e8b0606570aa5dc"
       },
       "datasets": {
        "data-0b45e05bdcb556106e8b0606570aa5dc": [
         {
          "cylinders": 3,
          "miles_per_gallon": 4.932499999999999
         },
         {
          "cylinders": 4,
          "miles_per_gallon": 32.446050317185666
         },
         {
          "cylinders": 5,
          "miles_per_gallon": 45.13555555555555
         },
         {
          "cylinders": 6,
          "miles_per_gallon": 14.323129251700683
         },
         {
          "cylinders": 8,
          "miles_per_gallon": 7.966405881798479
         }
        ]
       },
       "encoding": {
        "x": {
         "field": "cylinders",
         "type": "quantitative"
        },
        "y": {
         "field": "miles_per_gallon",
         "type": "quantitative"
        }
       },
       "mark": "bar"
      },
      "image/png": "[encoded data removed]",
      "text/plain": [
       "<VegaLite 3 object>\n",
       "\n",
       "If you see this message, it means the renderer has not been properly enabled\n",
       "for the frontend that you are using. For more information, see\n",
       "https://altair-viz.github.io/user_guide/troubleshooting.html\n"
      ]
     },
     "execution_count": 183,
     "metadata": {},
     "output_type": "execute_result"
    }
   ],
   "source": [
    "#cars_stdevp\n",
    "import numpy as np\n",
    "see = temp.groupby('cylinders').miles_per_gallon.agg(np.var, ddof=0).reset_index()\n",
    "c = alt.Chart(see).mark_bar().encode(\n",
    "    x='cylinders',\n",
    "    y='miles_per_gallon'\n",
    ")\n",
    "c"
   ]
  },
  {
   "cell_type": "code",
   "execution_count": 184,
   "metadata": {},
   "outputs": [
    {
     "data": {
      "application/vnd.vegalite.v3+json": {
       "$schema": "https://vega.github.io/schema/vega-lite/v4.8.1.json",
       "config": {
        "view": {
         "continuousHeight": 300,
         "continuousWidth": 400
        }
       },
       "data": {
        "name": "data-3e016c0906f28be84d3528479b008dcb"
       },
       "datasets": {
        "data-3e016c0906f28be84d3528479b008dcb": [
         {
          "cylinders": 3,
          "miles_per_gallon": 6.576666666666665
         },
         {
          "cylinders": 4,
          "miles_per_gallon": 32.605883077368844
         },
         {
          "cylinders": 5,
          "miles_per_gallon": 67.70333333333332
         },
         {
          "cylinders": 6,
          "miles_per_gallon": 14.49569707401033
         },
         {
          "cylinders": 8,
          "miles_per_gallon": 8.044507900247483
         }
        ]
       },
       "encoding": {
        "x": {
         "field": "cylinders",
         "type": "quantitative"
        },
        "y": {
         "field": "miles_per_gallon",
         "type": "quantitative"
        }
       },
       "mark": "bar"
      },
      "image/png": "[encoded data removed]",
      "text/plain": [
       "<VegaLite 3 object>\n",
       "\n",
       "If you see this message, it means the renderer has not been properly enabled\n",
       "for the frontend that you are using. For more information, see\n",
       "https://altair-viz.github.io/user_guide/troubleshooting.html\n"
      ]
     },
     "execution_count": 184,
     "metadata": {},
     "output_type": "execute_result"
    }
   ],
   "source": [
    "#cars_stdev\n",
    "import numpy as np\n",
    "see = temp.groupby('cylinders').miles_per_gallon.agg(np.var, ddof=1).reset_index()\n",
    "c = alt.Chart(see).mark_bar().encode(\n",
    "    x='cylinders',\n",
    "    y='miles_per_gallon'\n",
    ")\n",
    "c"
   ]
  },
  {
   "cell_type": "code",
   "execution_count": null,
   "metadata": {},
   "outputs": [],
   "source": []
  }
 ],
 "metadata": {
  "kernelspec": {
   "display_name": "Python 3",
   "language": "python",
   "name": "python3"
  },
  "language_info": {
   "codemirror_mode": {
    "name": "ipython",
    "version": 3
   },
   "file_extension": ".py",
   "mimetype": "text/x-python",
   "name": "python",
   "nbconvert_exporter": "python",
   "pygments_lexer": "ipython3",
   "version": "3.7.3"
  }
 },
 "nbformat": 4,
 "nbformat_minor": 4
}
